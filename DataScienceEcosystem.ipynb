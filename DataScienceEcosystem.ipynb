{
 "cells": [
  {
   "cell_type": "markdown",
   "id": "b50bc8c3-324e-488b-bc0c-be916b63c990",
   "metadata": {},
   "source": [
    "# Data Science Tools and Ecosystem"
   ]
  },
  {
   "cell_type": "markdown",
   "id": "117fbbb1-5bd0-4fd2-ba7b-254d2a4e2835",
   "metadata": {},
   "source": [
    "In this notebook, Data Science Tools and Ecosystem are summarized."
   ]
  },
  {
   "cell_type": "markdown",
   "id": "329182e4-3f79-421e-922b-1b057cc575cb",
   "metadata": {},
   "source": [
    "Some of the popular languages that Data Scientists use are:\n",
    "* python\n",
    "* R\n",
    "* JAVA"
   ]
  },
  {
   "cell_type": "markdown",
   "id": "c17abd50-d7b4-463f-bac9-48c92e9fcd2c",
   "metadata": {},
   "source": [
    "Some of the commonly used libraries used by Data Scientists include:\n",
    "1. pandas\n",
    "2. numpy\n",
    "3. matplotlib"
   ]
  },
  {
   "cell_type": "markdown",
   "id": "ce811ed2-48a0-4837-9d26-85ffc68d1b88",
   "metadata": {},
   "source": [
    "|Data Science Tools|\n",
    "|-|\n",
    "|jupyterlab|\n",
    "|Rstudio|\n",
    "|vscode|"
   ]
  },
  {
   "cell_type": "markdown",
   "id": "ab5b324a-915b-4e10-a1b1-46710687cb57",
   "metadata": {},
   "source": [
    "### Below are a few examples of evaluating arithmetic expressions in Python"
   ]
  },
  {
   "cell_type": "code",
   "execution_count": 12,
   "id": "503461f2-7e6b-4eca-a0bc-dfed4cadb6e2",
   "metadata": {},
   "outputs": [
    {
     "data": {
      "text/plain": [
       "17"
      ]
     },
     "execution_count": 12,
     "metadata": {},
     "output_type": "execute_result"
    }
   ],
   "source": [
    "#This a simple arithmetic expression to mutiply then add integers\n",
    "(3*4)+5"
   ]
  },
  {
   "cell_type": "code",
   "execution_count": 14,
   "id": "9ebe4f14-011a-4bb3-b0aa-484609c8c64e",
   "metadata": {},
   "outputs": [
    {
     "name": "stdout",
     "output_type": "stream",
     "text": [
      "3.3333333333333335\n"
     ]
    }
   ],
   "source": [
    "#This will convert 200 minutes to hours by diving by 60\n",
    "hours = 200 / 60\n",
    "print(hours)"
   ]
  },
  {
   "cell_type": "markdown",
   "id": "b4cf33af-398c-4d0b-8105-e644ccbb93d8",
   "metadata": {},
   "source": [
    "**Objectives:**\n",
    "* List popular languages for Data Science\n",
    "* List popular libraries for Data Science\n",
    "* List popular tools for Data Science"
   ]
  },
  {
   "cell_type": "markdown",
   "id": "8e2ba01d-2370-413b-9357-d1637f8b892f",
   "metadata": {},
   "source": [
    "## Author\n",
    "xu feng"
   ]
  },
  {
   "cell_type": "code",
   "execution_count": null,
   "id": "57fe6729-22ec-4abf-a441-58cf4bb3c7d7",
   "metadata": {},
   "outputs": [],
   "source": []
  }
 ],
 "metadata": {
  "kernelspec": {
   "display_name": "Python 3 (ipykernel)",
   "language": "python",
   "name": "python3"
  },
  "language_info": {
   "codemirror_mode": {
    "name": "ipython",
    "version": 3
   },
   "file_extension": ".py",
   "mimetype": "text/x-python",
   "name": "python",
   "nbconvert_exporter": "python",
   "pygments_lexer": "ipython3",
   "version": "3.11.5"
  }
 },
 "nbformat": 4,
 "nbformat_minor": 5
}
